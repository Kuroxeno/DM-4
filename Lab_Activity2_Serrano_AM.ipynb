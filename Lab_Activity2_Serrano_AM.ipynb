{
 "cells": [
  {
   "cell_type": "code",
   "execution_count": 4,
   "id": "3eff7797-bbbf-4a86-99bc-9fa347a31a11",
   "metadata": {},
   "outputs": [
    {
     "name": "stdin",
     "output_type": "stream",
     "text": [
      "Enter phone number:  1234567891\n"
     ]
    },
    {
     "name": "stdout",
     "output_type": "stream",
     "text": [
      "(123) 456-7891\n"
     ]
    }
   ],
   "source": [
    "#Allan Mark V. Serrano\n",
    "#Lab Activity 1 -Set C\n",
    "#No. 1\n",
    "def format_phone_number(raw_input):\n",
    "    # Remove all whitespace and hyphens\n",
    "    cleaned = raw_input.replace(\" \", \"\").replace(\"-\", \"\")\n",
    "    \n",
    "    # Remove other non-digit characters just in case (e.g., parentheses, dots)\n",
    "    digits = ''.join(char for char in cleaned if char.isdigit())\n",
    "    \n",
    "    # Check if there are exactly 10 digits\n",
    "    if len(digits) != 10:\n",
    "        return \"Invalid phone number\"\n",
    "    \n",
    "    # Format to standard (XXX) XXX-XXXX\n",
    "    area_code = digits[:3]\n",
    "    first_three = digits[3:6]\n",
    "    last_four = digits[6:]\n",
    "    \n",
    "    formatted_number = f\"({area_code}) {first_three}-{last_four}\"\n",
    "    return formatted_number\n",
    "\n",
    "# Example usage\n",
    "user_input = input(\"Enter phone number: \")\n",
    "print(format_phone_number(user_input))\n"
   ]
  },
  {
   "cell_type": "code",
   "execution_count": 3,
   "id": "aa42339f-ebdf-4138-a4c4-01c385341b81",
   "metadata": {},
   "outputs": [
    {
     "name": "stdout",
     "output_type": "stream",
     "text": [
      "2x Book @15.99 ea = $31.98\n"
     ]
    }
   ],
   "source": [
    "#No.2 \n",
    "item = \"Book\"\n",
    "price = 15.99\n",
    "quantity = 2\n",
    "\n",
    "total = price * quantity\n",
    "receipt_line = f\"{quantity}x {item} @{price:.2f} ea = ${total:.2f}\"\n",
    "\n",
    "print(receipt_line)\n"
   ]
  },
  {
   "cell_type": "code",
   "execution_count": 5,
   "id": "af0f4873-057d-4ae9-b4f2-7b8c7bfd1437",
   "metadata": {},
   "outputs": [
    {
     "name": "stdout",
     "output_type": "stream",
     "text": [
      "True\n",
      "False\n",
      "False\n",
      "False\n"
     ]
    }
   ],
   "source": [
    "#No. 3\n",
    "def is_valid_username(username):\n",
    "    return username.isalnum() and 5 <= len(username) <= 12\n",
    "print(is_valid_username(\"User123\"))     # True\n",
    "print(is_valid_username(\"ab!23\"))       # False (has special character)\n",
    "print(is_valid_username(\"abc\"))         # False (too short)\n",
    "print(is_valid_username(\"longusername99\"))  # False (too long)\n"
   ]
  },
  {
   "cell_type": "code",
   "execution_count": 7,
   "id": "6479aa8e-76f6-4b12-be8a-78f5b8643978",
   "metadata": {},
   "outputs": [
    {
     "name": "stdin",
     "output_type": "stream",
     "text": [
      "Enter your credit card number:  1234567891\n"
     ]
    },
    {
     "name": "stdout",
     "output_type": "stream",
     "text": [
      "******7891\n"
     ]
    }
   ],
   "source": [
    "#No. 4\n",
    "def mask_credit_card(card_number):\n",
    "    # Remove spaces and hyphens (optional: sanitize input)\n",
    "    cleaned = ''.join(c for c in card_number if c.isdigit())\n",
    "    \n",
    "    if len(cleaned) < 4:\n",
    "        return \"Invalid card number\"\n",
    "\n",
    "    masked = '*' * (len(cleaned) - 4) + cleaned[-4:]\n",
    "    return masked\n",
    "user_input = input(\"Enter your credit card number: \")\n",
    "print(mask_credit_card(user_input))\n"
   ]
  },
  {
   "cell_type": "code",
   "execution_count": null,
   "id": "f5ebe755-2e84-4361-91a4-f914b9b9354d",
   "metadata": {},
   "outputs": [],
   "source": []
  }
 ],
 "metadata": {
  "kernelspec": {
   "display_name": "Python 3 (ipykernel)",
   "language": "python",
   "name": "python3"
  },
  "language_info": {
   "codemirror_mode": {
    "name": "ipython",
    "version": 3
   },
   "file_extension": ".py",
   "mimetype": "text/x-python",
   "name": "python",
   "nbconvert_exporter": "python",
   "pygments_lexer": "ipython3",
   "version": "3.13.3"
  }
 },
 "nbformat": 4,
 "nbformat_minor": 5
}
