{
 "cells": [
  {
   "cell_type": "code",
   "execution_count": 1,
   "id": "c9a95ddb-965d-4265-b594-667dd63547d7",
   "metadata": {},
   "outputs": [
    {
     "name": "stdout",
     "output_type": "stream",
     "text": [
      "3\n"
     ]
    }
   ],
   "source": [
    "#Allan Mark V. Serrano\n",
    "#Lab Activity 1 - Set C\n",
    "#No. 1\n",
    "def count_vowels(text):\n",
    "    vowels = 'aeiouAEIOU'\n",
    "    count = sum(1 for char in text if char in vowels)\n",
    "    return count\n",
    "\n",
    "# Example:\n",
    "print(count_vowels(\"Hello World\"))  # Output: 3\n"
   ]
  },
  {
   "cell_type": "code",
   "execution_count": 2,
   "id": "df758dc9-9271-41fb-a031-9e3bd8b9601c",
   "metadata": {},
   "outputs": [
    {
     "name": "stdout",
     "output_type": "stream",
     "text": [
      "Shirt size: Large, Message: 'I love Python'\n",
      "Shirt size: Medium, Message: 'Code Everyday'\n",
      "Shirt size: Large, Message: 'Keep Calm and Code On'\n"
     ]
    }
   ],
   "source": [
    "#No. 2\n",
    "def make_shirt(size=\"Large\", message=\"I love Python\"):\n",
    "    print(f\"Shirt size: {size}, Message: '{message}'\")\n",
    "\n",
    "# Examples:\n",
    "make_shirt()  # Uses defaults\n",
    "make_shirt(\"Medium\", \"Code Everyday\")\n",
    "make_shirt(message=\"Keep Calm and Code On\")\n"
   ]
  },
  {
   "cell_type": "code",
   "execution_count": 3,
   "id": "51da52b6-2d5d-4237-8104-c89ad46cc7a9",
   "metadata": {},
   "outputs": [
    {
     "name": "stdout",
     "output_type": "stream",
     "text": [
      "Hello world!\n",
      "Python is awesome!\n"
     ]
    }
   ],
   "source": [
    "#No. 3\n",
    "def merge_strings(*args):\n",
    "    return ' '.join(args)\n",
    "\n",
    "# Examples:\n",
    "print(merge_strings(\"Hello\", \"world!\"))              # Output: \"Hello world!\"\n",
    "print(merge_strings(\"Python\", \"is\", \"awesome!\"))     # Output: \"Python is awesome!\"\n"
   ]
  },
  {
   "cell_type": "code",
   "execution_count": 4,
   "id": "5d733434-98ad-49df-9655-b1097cbb6271",
   "metadata": {},
   "outputs": [
    {
     "name": "stdout",
     "output_type": "stream",
     "text": [
      "{'app_name': 'MyApp', 'version': '1.0', 'debug': True, 'port': 3000, 'environment': 'production'}\n"
     ]
    }
   ],
   "source": [
    "#No 4\n",
    "def setup_application(app_name, version, **kwargs):\n",
    "    config = {'app_name': app_name, 'version': version}\n",
    "    config.update(kwargs)\n",
    "    return config\n",
    "\n",
    "# Example:\n",
    "app_config = setup_application(\"MyApp\", \"1.0\", debug=True, port=3000, environment=\"production\")\n",
    "print(app_config)\n",
    "# Output: {'app_name': 'MyApp', 'version': '1.0', 'debug': True, 'port': 3000, 'environment': 'production'}\n"
   ]
  },
  {
   "cell_type": "code",
   "execution_count": null,
   "id": "426a58ef-3450-4fe5-9847-255ea17c5aec",
   "metadata": {},
   "outputs": [],
   "source": []
  }
 ],
 "metadata": {
  "kernelspec": {
   "display_name": "Python 3 (ipykernel)",
   "language": "python",
   "name": "python3"
  },
  "language_info": {
   "codemirror_mode": {
    "name": "ipython",
    "version": 3
   },
   "file_extension": ".py",
   "mimetype": "text/x-python",
   "name": "python",
   "nbconvert_exporter": "python",
   "pygments_lexer": "ipython3",
   "version": "3.13.3"
  }
 },
 "nbformat": 4,
 "nbformat_minor": 5
}
